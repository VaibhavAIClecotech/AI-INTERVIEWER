{
 "cells": [
  {
   "cell_type": "code",
   "execution_count": 23,
   "metadata": {},
   "outputs": [],
   "source": [
    "import moviepy.editor as mp\n",
    "import speech_recognition as sr"
   ]
  },
  {
   "cell_type": "code",
   "execution_count": 19,
   "metadata": {},
   "outputs": [],
   "source": [
    "witai_api_key = \"MYLO6I6SAWDV6MXQI6UO3ORK73IFEYOS\""
   ]
  },
  {
   "cell_type": "code",
   "execution_count": 24,
   "metadata": {},
   "outputs": [],
   "source": [
    "def extract_text_from_video_witai(video_path, witai_api_key):\n",
    "    # Step 1: Extract audio from the video\n",
    "    video_clip = mp.VideoFileClip(video_path)\n",
    "    audio_path = \"temp_audio.wav\"\n",
    "    video_clip.audio.write_audiofile(audio_path, codec='pcm_s16le', ffmpeg_params=[\"-ac\", \"1\"])\n",
    "\n",
    "    # Step 2: Use SpeechRecognition to transcribe audio with Wit.ai\n",
    "    recognizer = sr.Recognizer()\n",
    "\n",
    "    with sr.AudioFile(audio_path) as source:\n",
    "        audio = recognizer.record(source)\n",
    "\n",
    "    try:\n",
    "        text = recognizer.recognize_wit(audio, key=witai_api_key)\n",
    "        return text\n",
    "    except sr.UnknownValueError:\n",
    "        print(\"Wit.ai could not understand audio\")\n",
    "    except sr.RequestError as e:\n",
    "        print(f\"Could not request results from Wit.ai service; {e}\")\n",
    "\n",
    "    return \"\"\n",
    "\n"
   ]
  },
  {
   "cell_type": "code",
   "execution_count": 25,
   "metadata": {},
   "outputs": [
    {
     "name": "stdout",
     "output_type": "stream",
     "text": [
      "MoviePy - Writing audio in temp_audio.wav\n"
     ]
    },
    {
     "name": "stderr",
     "output_type": "stream",
     "text": [
      "                                                       "
     ]
    },
    {
     "name": "stdout",
     "output_type": "stream",
     "text": [
      "MoviePy - Done.\n"
     ]
    },
    {
     "name": "stderr",
     "output_type": "stream",
     "text": [
      "\r"
     ]
    },
    {
     "name": "stdout",
     "output_type": "stream",
     "text": [
      "Extracted Text: The color of the grass and cream\n"
     ]
    }
   ],
   "source": [
    "video_path = \"C:/Users/Vaibhav Baweja/Desktop/Samplevideo.mp4\"\n",
    "witai_api_key = \"ERS7SHU575FOKXHC5RZMMCJUVA3EYCBC\"\n",
    "extracted_text = extract_text_from_video_witai(video_path, witai_api_key)\n",
    "print(\"Extracted Text:\", extracted_text)"
   ]
  },
  {
   "cell_type": "code",
   "execution_count": null,
   "metadata": {},
   "outputs": [],
   "source": []
  }
 ],
 "metadata": {
  "kernelspec": {
   "display_name": "base",
   "language": "python",
   "name": "python3"
  },
  "language_info": {
   "codemirror_mode": {
    "name": "ipython",
    "version": 3
   },
   "file_extension": ".py",
   "mimetype": "text/x-python",
   "name": "python",
   "nbconvert_exporter": "python",
   "pygments_lexer": "ipython3",
   "version": "3.11.7"
  }
 },
 "nbformat": 4,
 "nbformat_minor": 2
}
